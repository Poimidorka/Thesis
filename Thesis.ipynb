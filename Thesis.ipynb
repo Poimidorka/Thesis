{
 "cells": [
  {
   "cell_type": "markdown",
   "metadata": {},
   "source": [
    "Predictive Analytics for Student Success in LMS"
   ]
  },
  {
   "cell_type": "code",
   "execution_count": 3,
   "metadata": {},
   "outputs": [
    {
     "name": "stdout",
     "output_type": "stream",
     "text": [
      "Unexpected exception formatting exception. Falling back to standard exception\n"
     ]
    },
    {
     "name": "stderr",
     "output_type": "stream",
     "text": [
      "Traceback (most recent call last):\n",
      "  File \"/Users/poimidorka/Desktop/Code/Constructor/Thesis/venv/lib/python3.12/site-packages/IPython/core/interactiveshell.py\", line 3577, in run_code\n",
      "  File \"/var/folders/82/krn9rjfj187bgcc_hdqmb18r0000gn/T/ipykernel_2131/3450704787.py\", line 1, in <module>\n",
      "    import pandas as pd\n",
      "ModuleNotFoundError: No module named 'pandas'\n",
      "\n",
      "During handling of the above exception, another exception occurred:\n",
      "\n",
      "Traceback (most recent call last):\n",
      "  File \"/Users/poimidorka/Desktop/Code/Constructor/Thesis/venv/lib/python3.12/site-packages/pygments/styles/__init__.py\", line 45, in get_style_by_name\n",
      "ModuleNotFoundError: No module named 'pygments.styles.default'\n",
      "\n",
      "During handling of the above exception, another exception occurred:\n",
      "\n",
      "Traceback (most recent call last):\n",
      "  File \"/Users/poimidorka/Desktop/Code/Constructor/Thesis/venv/lib/python3.12/site-packages/IPython/core/interactiveshell.py\", line 2168, in showtraceback\n",
      "  File \"/Users/poimidorka/Desktop/Code/Constructor/Thesis/venv/lib/python3.12/site-packages/IPython/core/ultratb.py\", line 1454, in structured_traceback\n",
      "  File \"/Users/poimidorka/Desktop/Code/Constructor/Thesis/venv/lib/python3.12/site-packages/IPython/core/ultratb.py\", line 1345, in structured_traceback\n",
      "  File \"/Users/poimidorka/Desktop/Code/Constructor/Thesis/venv/lib/python3.12/site-packages/IPython/core/ultratb.py\", line 1192, in structured_traceback\n",
      "  File \"/Users/poimidorka/Desktop/Code/Constructor/Thesis/venv/lib/python3.12/site-packages/IPython/core/ultratb.py\", line 1082, in format_exception_as_a_whole\n",
      "  File \"/Users/poimidorka/Desktop/Code/Constructor/Thesis/venv/lib/python3.12/site-packages/IPython/core/ultratb.py\", line 1133, in get_records\n",
      "  File \"/Users/poimidorka/Desktop/Code/Constructor/Thesis/venv/lib/python3.12/site-packages/pygments/styles/__init__.py\", line 47, in get_style_by_name\n",
      "pygments.util.ClassNotFound: Could not find style module 'pygments.styles.default', though it should be builtin.\n"
     ]
    }
   ],
   "source": [
    "import pandas as pd\n",
    "import sklearn as sk\n",
    "import numpy as np"
   ]
  },
  {
   "cell_type": "markdown",
   "metadata": {},
   "source": [
    "**1)Parcing incoming data:**\n",
    "\n",
    "\n",
    "And playing with it"
   ]
  },
  {
   "cell_type": "code",
   "execution_count": null,
   "metadata": {},
   "outputs": [
    {
     "name": "stdout",
     "output_type": "stream",
     "text": [
      "['Marital status', 'Application mode', 'Application order', 'Course', 'Daytime/evening attendance\\t', 'Previous qualification', 'Previous qualification (grade)', 'Nacionality', \"Mother's qualification\", \"Father's qualification\", \"Mother's occupation\", \"Father's occupation\", 'Admission grade', 'Displaced', 'Educational special needs', 'Debtor', 'Tuition fees up to date', 'Gender', 'Scholarship holder', 'Age at enrollment', 'International', 'Curricular units 1st sem (credited)', 'Curricular units 1st sem (enrolled)', 'Curricular units 1st sem (evaluations)', 'Curricular units 1st sem (approved)', 'Curricular units 1st sem (grade)', 'Curricular units 1st sem (without evaluations)', 'Curricular units 2nd sem (credited)', 'Curricular units 2nd sem (enrolled)', 'Curricular units 2nd sem (evaluations)', 'Curricular units 2nd sem (approved)', 'Curricular units 2nd sem (grade)', 'Curricular units 2nd sem (without evaluations)', 'Unemployment rate', 'Inflation rate', 'GDP', 'Target']\n",
      "Marital status\n",
      "0       1\n",
      "1       1\n",
      "2       1\n",
      "3       1\n",
      "4       2\n",
      "       ..\n",
      "4419    1\n",
      "4420    1\n",
      "4421    1\n",
      "4422    1\n",
      "4423    1\n",
      "Name: Marital status, Length: 4424, dtype: int64\n"
     ]
    }
   ],
   "source": [
    "df = pd.read_csv('Data/data.csv', sep=';')\n",
    "columns = df.columns.tolist()\n",
    "print(columns)\n",
    "#numerical_columns = df.select_dtypes(include=['int', 'float'])\n",
    "#print(df)\n",
    "#print(columns)\n",
    "#nf = df[numerical_columns]\n",
    "print(columns[0])\n",
    "print(df[columns[0]])"
   ]
  },
  {
   "cell_type": "markdown",
   "metadata": {},
   "source": [
    "****\n",
    "Decision tree classifier\n",
    "****"
   ]
  },
  {
   "cell_type": "code",
   "execution_count": null,
   "metadata": {},
   "outputs": [
    {
     "name": "stdout",
     "output_type": "stream",
     "text": [
      "0.6764595103578155\n"
     ]
    }
   ],
   "source": [
    "from sklearn.model_selection import train_test_split\n",
    "from scipy import stats\n",
    "from sklearn.tree import DecisionTreeClassifier\n",
    "from sklearn.metrics import accuracy_score\n",
    "\n",
    "def accuracy(df, dropped_columns):\n",
    "    X = df.drop(columns=dropped_columns)\n",
    "    y = df['Target']\n",
    "    X_train, X_eval, y_train, y_eval = train_test_split(X, y, test_size=0.6, random_state=42)\n",
    "    tree_classifier = DecisionTreeClassifier()\n",
    "    tree_classifier.fit(X_train, y_train)\n",
    "    y_pred = tree_classifier.predict(X_eval)\n",
    "    return accuracy_score(y_eval, y_pred)\n",
    "\n",
    "dropped_columns = ['Target', 'Previous qualification', 'Scholarship holder']\n",
    "'''\n",
    "for c in columns[:len(columns) - 1]:\n",
    "    dropped_columns.append(c)\n",
    "    X = df.drop(columns=dropped_columns)\n",
    "    y = df['Target']\n",
    "    X_train, X_eval, y_train, y_eval = train_test_split(X, y, test_size=0.6, random_state=42)\n",
    "    tree_classifier = DecisionTreeClassifier()\n",
    "    tree_classifier.fit(X_train, y_train)\n",
    "    y_pred = tree_classifier.predict(X_eval)\n",
    "    accuracy = accuracy_score(y_eval, y_pred)\n",
    "    print(accuracy, c)\n",
    "    dropped_columns.pop()\n",
    "'''\n",
    "print(accuracy(df,dropped_columns))"
   ]
  },
  {
   "cell_type": "markdown",
   "metadata": {},
   "source": [
    "***\n",
    "Gradient boosting classifier\n",
    "***"
   ]
  },
  {
   "cell_type": "code",
   "execution_count": null,
   "metadata": {},
   "outputs": [
    {
     "name": "stdout",
     "output_type": "stream",
     "text": [
      "0.7657250470809793\n"
     ]
    }
   ],
   "source": [
    "from sklearn.model_selection import train_test_split\n",
    "from scipy import stats\n",
    "from sklearn.ensemble import GradientBoostingClassifier\n",
    "from sklearn.metrics import accuracy_score\n",
    "\n",
    "def accuracy(df, dropped_columns):\n",
    "    X = df.drop(columns=dropped_columns)\n",
    "    y = df['Target']\n",
    "    X_train, X_eval, y_train, y_eval = train_test_split(X, y, test_size=0.6, random_state=42)\n",
    "    tree_classifier = GradientBoostingClassifier()\n",
    "    tree_classifier.fit(X_train, y_train)\n",
    "    y_pred = tree_classifier.predict(X_eval)\n",
    "    return accuracy_score(y_eval, y_pred)\n",
    "\n",
    "dropped_columns = ['Target', 'Previous qualification', 'Scholarship holder']\n",
    "'''\n",
    "for c in columns[:len(columns) - 1]:\n",
    "    dropped_columns.append(c)\n",
    "    X = df.drop(columns=dropped_columns)\n",
    "    y = df['Target']\n",
    "    X_train, X_eval, y_train, y_eval = train_test_split(X, y, test_size=0.6, random_state=42)\n",
    "    tree_classifier = DecisionTreeClassifier()\n",
    "    tree_classifier.fit(X_train, y_train)\n",
    "    y_pred = tree_classifier.predict(X_eval)\n",
    "    accuracy = accuracy_score(y_eval, y_pred)\n",
    "    print(accuracy, c)\n",
    "    dropped_columns.pop()\n",
    "'''\n",
    "print(accuracy(df,dropped_columns))"
   ]
  }
 ],
 "metadata": {
  "kernelspec": {
   "display_name": "Python 3",
   "language": "python",
   "name": "python3"
  },
  "language_info": {
   "codemirror_mode": {
    "name": "ipython",
    "version": 3
   },
   "file_extension": ".py",
   "mimetype": "text/x-python",
   "name": "python",
   "nbconvert_exporter": "python",
   "pygments_lexer": "ipython3",
   "version": "3.12.2"
  }
 },
 "nbformat": 4,
 "nbformat_minor": 2
}
